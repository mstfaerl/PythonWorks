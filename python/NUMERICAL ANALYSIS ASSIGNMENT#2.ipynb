{
 "cells": [
  {
   "cell_type": "code",
   "execution_count": 16,
   "metadata": {},
   "outputs": [],
   "source": [
    "#Divided Difference Interpolation 1.Soru"
   ]
  },
  {
   "cell_type": "code",
   "execution_count": 2,
   "metadata": {},
   "outputs": [
    {
     "name": "stdout",
     "output_type": "stream",
     "text": [
      "8 \t -2.0 \t -0.0 \t -0.0 \t \n",
      "4 \t -2.0 \t -0.0 \t \n",
      "2 \t -2.0 \t \n",
      "-2 \t \n"
     ]
    }
   ],
   "source": [
    "def proterm(i, x):  \n",
    "    pro = 1\n",
    "    for j in range(i):  \n",
    "        pro = pro * (x[j]) \n",
    "    return pro\n",
    "\n",
    "def dividedDiffTable(x, y, n): \n",
    "  \n",
    "    for i in range(1, n):  \n",
    "        for j in range(n - i):  \n",
    "            y[j][i] = ((y[j][i - 1] - y[j + 1][i - 1]) /\n",
    "                                     (x[j] - x[i + j])) \n",
    "    return y\n",
    "  \n",
    "def applyFormula(x, y, n):  \n",
    "  \n",
    "    sum = y[0][0]\n",
    "  \n",
    "    for i in range(1, n): \n",
    "        sum = sum + (proterm(i, x) * y[0][i])  \n",
    "      \n",
    "    return sum\n",
    "   \n",
    "def printDiffTable(y, n):  \n",
    "  \n",
    "    for i in range(n):  \n",
    "        for j in range(n - i):  \n",
    "            print(round(y[i][j], 4), \"\\t\",  \n",
    "                               end = \" \")\n",
    "  \n",
    "        print(\"\")\n",
    "    \n",
    "n = 4\n",
    "y = [[0 for i in range(10)]  \n",
    "        for j in range(10)]  \n",
    "x = [ -2 , 0 , 1 , 3 ]\n",
    "  \n",
    "y[0][0] = 8  \n",
    "y[1][0] = 4  \n",
    "y[2][0] = 2  \n",
    "y[3][0] = -2  \n",
    "  \n",
    "y=dividedDiffTable(x, y, n)\n",
    "  \n",
    "printDiffTable(y, n)  "
   ]
  },
  {
   "cell_type": "code",
   "execution_count": 18,
   "metadata": {},
   "outputs": [],
   "source": [
    "#Newton-Raphson Method - 2.Soru"
   ]
  },
  {
   "cell_type": "code",
   "execution_count": 3,
   "metadata": {},
   "outputs": [],
   "source": [
    "#sympy kütüphanesi ile polinomal fonksiyonları ve bu fonksiyonların türevlerini almayı sağlarız.\n",
    "import sympy as sym \n",
    "import numpy as np"
   ]
  },
  {
   "cell_type": "code",
   "execution_count": 20,
   "metadata": {},
   "outputs": [],
   "source": [
    "#burada x değerini polinomda belirtmek ve daha sonrasında değer verebilmek için oluşturduk.\n",
    "x = sym.Symbol('x')"
   ]
  },
  {
   "cell_type": "code",
   "execution_count": 21,
   "metadata": {},
   "outputs": [
    {
     "data": {
      "text/latex": [
       "$\\displaystyle 6$"
      ],
      "text/plain": [
       "6"
      ]
     },
     "execution_count": 21,
     "metadata": {},
     "output_type": "execute_result"
    }
   ],
   "source": [
    "f0 = 3*x**3 + x**2 - x - 5\n",
    "f0.subs({x:-1})\n",
    "#f0 fonksiyonumuzu polinomal şekilde yazdırıp daha sonrasında değer vererek sonucu elde ettik.\n",
    "f1 = sym.diff(f0)\n",
    "f1.subs({x:-1})\n",
    "#f1 fonksiyonumuzu f0'ın türevi olarak elde ediyoruz, daha sonrasında değer vererek sonucu elde ettik."
   ]
  },
  {
   "cell_type": "code",
   "execution_count": 22,
   "metadata": {
    "scrolled": true
   },
   "outputs": [
    {
     "name": "stdout",
     "output_type": "stream",
     "text": [
      "0.0000\n",
      "-5.0000\n",
      "-3.3599\n",
      "-2.2500\n",
      "-1.4600\n",
      "-0.7500\n",
      "1.1499\n",
      "1.1699\n",
      "1.1699\n",
      "1.1699\n"
     ]
    }
   ],
   "source": [
    "#Newton-Raphson metodunu oluşturduk.\n",
    "a = -1\n",
    "for i in range(10):\n",
    "    a = a - (f0.subs({x:a})/f1.subs({x:a}))\n",
    "    print(\"%.4f\" % round(a, 2))"
   ]
  },
  {
   "cell_type": "code",
   "execution_count": 72,
   "metadata": {},
   "outputs": [
    {
     "name": "stdout",
     "output_type": "stream",
     "text": [
      "Forward Diffirence :  0.41899999999999304\n",
      "Backward Difference :  0.4210000000000026\n",
      "Central Difference :  0.41999999999999776\n",
      "Forward Diffirence : f(2.40) verilmediği için çözülemez.\n",
      "Backward Difference :  -0.20000000000130103\n",
      "Central Difference :  -0.19999999999908058\n"
     ]
    }
   ],
   "source": [
    "#Finite Difference - 3. Soru\n",
    "def f(x):\n",
    "    if x == 2.36:\n",
    "        f = 0.85866\n",
    "    elif x == 2.37:\n",
    "        f = 0.86289\n",
    "    elif x == 2.38:\n",
    "        f = 0.86710\n",
    "    elif x == 2.39:\n",
    "        f = 0.87129\n",
    "    else:\n",
    "        print(\"There is no situation\")\n",
    "    return f,x\n",
    "\n",
    "\n",
    "f4,x4 = f(2.39)\n",
    "f3,x3 = f(2.38)\n",
    "f2,x2 = f(2.37)\n",
    "f1,x1 = f(2.36)\n",
    "\n",
    "#Forward Difference f'\n",
    "FD = (f4 - f3) / (x4 - x3)\n",
    "print(\"Forward Diffirence : \", FD)\n",
    "\n",
    "#Backward Difference f'\n",
    "BD = (f2 - f3) / (x2 - x3)\n",
    "print(\"Backward Difference : \", BD)\n",
    "\n",
    "#Central Difference f'\n",
    "CD = (f4 - f2) / (x4 - x2)\n",
    "print(\"Central Difference : \", CD)\n",
    "\n",
    "#Forward Difference f''\n",
    "\n",
    "print(\"Forward Diffirence : f(2.40) verilmediği için çözülemez.\")\n",
    "\n",
    "#Backward Difference f''\n",
    "BD = (f3 - 2*f2 + f1) / (x4 - x3)**2\n",
    "print(\"Backward Difference : \", BD)\n",
    "\n",
    "#Central Difference f''\n",
    "CD = (f4 - 2*f3 + f2) / (x4 - x3)**2\n",
    "print(\"Central Difference : \", CD)\n"
   ]
  },
  {
   "cell_type": "code",
   "execution_count": 17,
   "metadata": {},
   "outputs": [],
   "source": [
    "#Simpson’s 1/3 Rule - 4.Soru"
   ]
  },
  {
   "cell_type": "code",
   "execution_count": 39,
   "metadata": {},
   "outputs": [],
   "source": [
    "#F bizim integralimizdeki değerimiz (x^2) , a ve b alt ve üst limitlerimiz, N ise aralıklarımızı belirlemektedir.\n",
    "def simps(f,a,b,N):\n",
    "    dx = (b-a)/N\n",
    "    x = np.linspace(a,b,N+1)\n",
    "    y = f(x)\n",
    "    S = dx/3 * np.sum(y[0:-1:2] + 4*y[1::2] + y[2::2])\n",
    "    return S"
   ]
  },
  {
   "cell_type": "code",
   "execution_count": 42,
   "metadata": {},
   "outputs": [
    {
     "name": "stdout",
     "output_type": "stream",
     "text": [
      "Two Panels :  0.3333333333333333\n",
      "Four Panels :  0.3333333333333333\n",
      "Six Panels :  0.33333333333333326\n"
     ]
    }
   ],
   "source": [
    "#İstenen 2,4 ve 6 aralıkları için ayrı ayrı hesaplama yapıldı.\n",
    "print(\"Two Panels : \",simps(lambda x : x**2,0,1,2))\n",
    "print(\"Four Panels : \",simps(lambda x : x**2,0,1,4))\n",
    "print(\"Six Panels : \",simps(lambda x : x**2,0,1,6))"
   ]
  }
 ],
 "metadata": {
  "kernelspec": {
   "display_name": "Python 3",
   "language": "python",
   "name": "python3"
  },
  "language_info": {
   "codemirror_mode": {
    "name": "ipython",
    "version": 3
   },
   "file_extension": ".py",
   "mimetype": "text/x-python",
   "name": "python",
   "nbconvert_exporter": "python",
   "pygments_lexer": "ipython3",
   "version": "3.7.6"
  }
 },
 "nbformat": 4,
 "nbformat_minor": 4
}
