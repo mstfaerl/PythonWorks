{
 "cells": [
  {
   "cell_type": "code",
   "execution_count": 1,
   "metadata": {},
   "outputs": [
    {
     "name": "stdout",
     "output_type": "stream",
     "text": [
      "1 terms: Taylor Series approx= 1.5707963267948966, exp calc= 1.0, absolute error = 0.5707963267948966, relative error = 0.5707963267948966, percentage error = 57.079632679489656\n",
      "2 terms: Taylor Series approx= 0.9248322292886504, exp calc= 1.0, absolute error = 0.07516777071134961, relative error = 0.07516777071134961, percentage error = 7.516777071134961\n",
      "3 terms: Taylor Series approx= 1.0045248555348174, exp calc= 1.0, absolute error = 0.004524855534817407, relative error = 0.004524855534817407, percentage error = 0.4524855534817407\n",
      "4 terms: Taylor Series approx= 0.9998431013994987, exp calc= 1.0, absolute error = 0.00015689860050127624, relative error = 0.00015689860050127624, percentage error = 0.015689860050127624\n",
      "5 terms: Taylor Series approx= 1.0000035425842861, exp calc= 1.0, absolute error = 3.542584286142514e-06, relative error = 3.542584286142514e-06, percentage error = 0.0003542584286142514\n"
     ]
    }
   ],
   "source": [
    "import math\n",
    "\n",
    "def func_sin(x, n):\n",
    "    sin_approx = 0\n",
    "    for i in range(n):\n",
    "        coef = (-1) ** i\n",
    "        num = x ** (2 * i + 1)\n",
    "        denom = math.factorial(2 * i + 1)\n",
    "        sin_approx += (coef) * ((num) / (denom))\n",
    "\n",
    "    return sin_approx\n",
    "\n",
    "angle_rad = (math.radians(90))\n",
    "\n",
    "for i in range(1,6):\n",
    "    sin_approx = func_sin(angle_rad,i)\n",
    "    sin_exact = math.sin(angle_rad)\n",
    "    sin_absolute_error = abs(sin_exact - sin_approx)\n",
    "    sin_relative_error = abs(sin_exact - sin_approx) / abs(sin_exact)\n",
    "    sin_percentage_error = abs(sin_exact - sin_approx) / abs(sin_exact) * 100\n",
    "    print(f'{i} terms: Taylor Series approx= {sin_approx},'\n",
    "          f' exp calc= {sin_exact},'\n",
    "          f' absolute error = {sin_absolute_error},'\n",
    "          f' relative error = {sin_relative_error},'\n",
    "          f' percentage error = {sin_percentage_error}')"
   ]
  },
  {
   "cell_type": "code",
   "execution_count": null,
   "metadata": {},
   "outputs": [],
   "source": []
  }
 ],
 "metadata": {
  "kernelspec": {
   "display_name": "Python 3",
   "language": "python",
   "name": "python3"
  },
  "language_info": {
   "codemirror_mode": {
    "name": "ipython",
    "version": 3
   },
   "file_extension": ".py",
   "mimetype": "text/x-python",
   "name": "python",
   "nbconvert_exporter": "python",
   "pygments_lexer": "ipython3",
   "version": "3.9.0"
  }
 },
 "nbformat": 4,
 "nbformat_minor": 4
}
