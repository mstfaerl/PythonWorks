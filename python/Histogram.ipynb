{
 "cells": [
  {
   "cell_type": "code",
   "execution_count": 7,
   "metadata": {},
   "outputs": [],
   "source": [
    "import cv2 as cv\n",
    "import numpy as np\n",
    "from matplotlib import pyplot as plt"
   ]
  },
  {
   "cell_type": "code",
   "execution_count": 8,
   "metadata": {},
   "outputs": [],
   "source": [
    "class Histogram:\n",
    "    \n",
    "    def __init__(self, img):\n",
    "        self.img = img\n",
    "    \n",
    "    def originalHistogram(self): \n",
    "        plt.hist(self.img.ravel(),256,[0,256])\n",
    "        plt.show()\n",
    "        \n",
    "    def equalizationHistogram(self):\n",
    "        equ = cv.equalizeHist(img)\n",
    "        res = np.hstack((img,equ))\n",
    "        cv.imshow('Equalization Histogram',res)\n",
    "        plt.hist(equ.ravel(),256,[0,256])\n",
    "        plt.show()\n",
    "        cv.waitKey(0)\n",
    "        cv.destroyAllWindows()\n",
    "        \n",
    "    def histogramMatching(img,reference):\n",
    "        img_shape = img.shape\n",
    "    \n",
    "        img = img.ravel()\n",
    "        reference = reference.ravel()\n",
    "\n",
    "        o_values, bin_idx, o_counts = np.unique(img, return_inverse=True,return_counts=True)\n",
    "        b_values, b_counts = np.unique(reference, return_counts=True)\n",
    "\n",
    "        o_quantiles = np.cumsum(o_counts).astype(np.float64)\n",
    "        o_quantiles /= o_quantiles[-1]\n",
    "        b_quantiles = np.cumsum(b_counts).astype(np.float64)\n",
    "        b_quantiles /= b_quantiles[-1]\n",
    "\n",
    "        interp_t_values = np.interp(o_quantiles, b_quantiles, b_values)\n",
    "\n",
    "        return interp_t_values[bin_idx].reshape(img_shape)"
   ]
  },
  {
   "cell_type": "code",
   "execution_count": 9,
   "metadata": {},
   "outputs": [
    {
     "name": "stdout",
     "output_type": "stream",
     "text": [
      "Please select photo : katekuray.jpg\n"
     ]
    }
   ],
   "source": [
    "selectImg = input(\"Please select photo : \")\n",
    "img = cv.imread(selectImg,0)\n",
    "fn = Histogram(img)"
   ]
  },
  {
   "cell_type": "code",
   "execution_count": 10,
   "metadata": {},
   "outputs": [
    {
     "data": {
      "image/png": "[encoded data removed]",
      "text/plain": [
       "<Figure size 432x288 with 1 Axes>"
      ]
     },
     "metadata": {
      "needs_background": "light"
     },
     "output_type": "display_data"
    }
   ],
   "source": [
    "fn.originalHistogram()"
   ]
  },
  {
   "cell_type": "code",
   "execution_count": null,
   "metadata": {},
   "outputs": [
    {
     "data": {
      "image/png": "[encoded data removed]",
      "text/plain": [
       "<Figure size 432x288 with 1 Axes>"
      ]
     },
     "metadata": {
      "needs_background": "light"
     },
     "output_type": "display_data"
    }
   ],
   "source": [
    "fn.equalizationHistogram()"
   ]
  },
  {
   "cell_type": "code",
   "execution_count": null,
   "metadata": {},
   "outputs": [],
   "source": [
    "img1 = cv.imread('img.jpg')\n",
    "reference =  cv.imread('reference.jpg')"
   ]
  },
  {
   "cell_type": "code",
   "execution_count": null,
   "metadata": {},
   "outputs": [],
   "source": [
    "fn.histogramMatching(img1,reference)"
   ]
  }
 ],
 "metadata": {
  "kernelspec": {
   "display_name": "Python 3",
   "language": "python",
   "name": "python3"
  },
  "language_info": {
   "codemirror_mode": {
    "name": "ipython",
    "version": 3
   },
   "file_extension": ".py",
   "mimetype": "text/x-python",
   "name": "python",
   "nbconvert_exporter": "python",
   "pygments_lexer": "ipython3",
   "version": "3.7.6"
  }
 },
 "nbformat": 4,
 "nbformat_minor": 4
}
