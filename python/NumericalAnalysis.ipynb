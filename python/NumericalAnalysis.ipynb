{
 "cells": [
  {
   "cell_type": "code",
   "execution_count": 2,
   "metadata": {},
   "outputs": [],
   "source": [
    "import numpy as np\n",
    "import math"
   ]
  },
  {
   "cell_type": "code",
   "execution_count": 3,
   "metadata": {},
   "outputs": [],
   "source": [
    "def factorial(number):\n",
    "    if(number == 0):\n",
    "        return 1\n",
    "    elif(number == 1):\n",
    "        return 1\n",
    "    return number * factorial(number -1)"
   ]
  },
  {
   "cell_type": "code",
   "execution_count": 4,
   "metadata": {},
   "outputs": [
    {
     "data": {
      "text/plain": [
       "6"
      ]
     },
     "execution_count": 4,
     "metadata": {},
     "output_type": "execute_result"
    }
   ],
   "source": [
    "factorial(3)"
   ]
  },
  {
   "cell_type": "code",
   "execution_count": 5,
   "metadata": {},
   "outputs": [],
   "source": [
    "def exponantial(number, exp):\n",
    "    if(exp == 0):\n",
    "        return 1\n",
    "    return number * exponantial(number, (exp-1))"
   ]
  },
  {
   "cell_type": "code",
   "execution_count": 6,
   "metadata": {},
   "outputs": [
    {
     "data": {
      "text/plain": [
       "125"
      ]
     },
     "execution_count": 6,
     "metadata": {},
     "output_type": "execute_result"
    }
   ],
   "source": [
    "exponantial(5,3)"
   ]
  },
  {
   "cell_type": "code",
   "execution_count": 66,
   "metadata": {},
   "outputs": [
    {
     "name": "stdout",
     "output_type": "stream",
     "text": [
      "Taylor result :  175.8205976249771 \n",
      "Function result :  -0.5440211108893698\n",
      "Error is :  176.36461873586646\n"
     ]
    }
   ],
   "source": [
    "# f(x) = sin(2x), \n",
    "# f'(x) = 2cos(2x) = 0\n",
    "# f''(x) = -4sin(2x) = -4\n",
    "# f'''(x) = -8cos(2x) = 0\n",
    "# f''''(x) = 16sin(2x) = 16\n",
    "# f'''''(x) = 32cos(2x) = 0\n",
    "# 1 - (4*(x - (pi / 4) ^ 2) / (2!)) + (16*(x - (pi / 4) ^ 4) / (4!))\n",
    "\n",
    "def taylorSeries(x):\n",
    "    result = 1 - (4/factorial(2))*exponantial((x-(math.pi/4)),2)  + (16/factorial(4))*(exponantial((x-(math.pi/4)),4))\n",
    "    f = math.sin(2*x)\n",
    "    return result,f\n",
    "\n",
    "t,f = taylorSeries(5)\n",
    "\n",
    "# f(x) = sin(2x), f(5) = sin10\n",
    "\n",
    "#f = math.sin(10)\n",
    "print(\"Taylor result : \",t,\"\\nFunction result : \", f)\n",
    "\n",
    "# error is t - f \n",
    "e = t - f\n",
    "\n",
    "print('Error is : ', e)"
   ]
  },
  {
   "cell_type": "code",
   "execution_count": 28,
   "metadata": {},
   "outputs": [],
   "source": [
    "# Gauss Elimination\n",
    "\n",
    "def gaussElimination(a,b):\n",
    "    n = len(b)\n",
    "    for k in range(0,n-1):\n",
    "        for i in range(k+1,n):\n",
    "            if a[i,k] != 0.0:\n",
    "                lam = a[i,k]/a[k,k]\n",
    "                a[i,k+1:n] = a[i,k+1:n] - lam*a[k,k+1:n]\n",
    "                b[i] = b[i] - lam*b[k]\n",
    "    for k in range(n-1,-1,-1):\n",
    "        b[k] = (b[k] - np.dot(a[k,k+1:n],b[k+1:n]))/a[k,k]\n",
    "    return b"
   ]
  },
  {
   "cell_type": "code",
   "execution_count": 29,
   "metadata": {},
   "outputs": [
    {
     "data": {
      "text/plain": [
       "array([[ 0.65306122],\n",
       "       [-1.14285714],\n",
       "       [ 1.73469388]])"
      ]
     },
     "execution_count": 29,
     "metadata": {},
     "output_type": "execute_result"
    }
   ],
   "source": [
    "A = np.array([[ 2.0, -3.0, -1.0] ,[ 3.0, 2.0, -5.0], [ 2.0, 4.0, -1.0]])\n",
    "b = np.array([[3.0], [-9.0], [-5.0]])\n",
    "\n",
    "# Result\n",
    "gaussElimination(A,b)"
   ]
  },
  {
   "cell_type": "code",
   "execution_count": 30,
   "metadata": {},
   "outputs": [],
   "source": [
    "# Dootlittle's LU Decompositions\n",
    "\n",
    "def doolittlesDecomp(a):\n",
    "    n = len(a)\n",
    "    for k in range(0,n-1):\n",
    "        for i in range(k+1,n):\n",
    "            if a[i,k] != 0:\n",
    "                lam = a[i,k]/a[k,k]\n",
    "                a[i,k+1:n] = a[i,k+1:n] - lam*a[k,k+1:n]\n",
    "                a[i,k] = lam\n",
    "    return a\n",
    "\n",
    "def doolittleSolve(a,b):\n",
    "    n = len(a)\n",
    "    for k in range(1,n):\n",
    "        b[k] = b[k] - np.dot(a[k,0:k],b[0:k])\n",
    "    b[n-1] = b[n-1] / a[n-1,n-1]\n",
    "    for k in range(n-2,-1,-1):\n",
    "        b[k] = (b[k] - np.dot(a[k,k+1:n],b[k+1:n]))/a[k,k]\n",
    "    return b"
   ]
  },
  {
   "cell_type": "code",
   "execution_count": 31,
   "metadata": {},
   "outputs": [
    {
     "data": {
      "text/plain": [
       "array([[1.],\n",
       "       [1.],\n",
       "       [1.]])"
      ]
     },
     "execution_count": 31,
     "metadata": {},
     "output_type": "execute_result"
    }
   ],
   "source": [
    "AA = np.array([[ 2.34, -4.10, 1.78] ,[ -1.98, 3.47, -2.22], [ 2.36, -15.17, 6.18]])\n",
    "bb = np.array([[0.02], [-0.73], [-6.63]])\n",
    "\n",
    "# Result\n",
    "Ap = doolittlesDecomp(AA)\n",
    "doolittleSolve(Ap,bb)"
   ]
  },
  {
   "cell_type": "code",
   "execution_count": 33,
   "metadata": {},
   "outputs": [],
   "source": [
    "# Choleski Decomposition\n",
    "\n",
    "def isPosDef(x):\n",
    "    return np.all(np.linalg.eigvals(x) > 0)\n",
    "\n",
    "def choleskiDecomp(a):\n",
    "    n = len(a)\n",
    "    for k in range(n):\n",
    "        a[k,k] = math.sqrt(a[k,k] - np.dot(a[k,0:k],a[k,0:k]))\n",
    "        if isPosDef(a) is False:\n",
    "            print(\"Matrix is not positive definite\")\n",
    "            break\n",
    "        for i in range(k+1,n):\n",
    "            a[i,k] = (a[i,k] - np.dot(a[i,0:k],a[k,0:k]))/a[k,k]\n",
    "    for k in range(1,n):\n",
    "        a[0:k,k] = 0.0\n",
    "    return a\n",
    "\n",
    "def choleskiSol(L,b):\n",
    "    n = len(b)\n",
    "    for k in range(n):\n",
    "        b[k] = (b[k] - np.dot(L[k,0:k],b[0:k]))/L[k,k]\n",
    "    for k in range(n-1,-1,-1):\n",
    "        b[k] = (b[k] - np.dot(L[k+1:n,k],b[k+1:n]))/L[k,k]\n",
    "    return b"
   ]
  },
  {
   "cell_type": "code",
   "execution_count": 34,
   "metadata": {},
   "outputs": [
    {
     "data": {
      "text/plain": [
       "array([[ 0.5],\n",
       "       [-1. ],\n",
       "       [ 1.5]])"
      ]
     },
     "execution_count": 34,
     "metadata": {},
     "output_type": "execute_result"
    }
   ],
   "source": [
    "AAA = np.array([[ 1.0, 1.0, 1.0] ,[ 1.0, 2.0, 2.0], [ 1.0, 2.0, 3.0]])\n",
    "bbb = np.array([[1.0], [3/2], [3.0]])\n",
    "\n",
    "#Result\n",
    "L = choleskiDecomp(AAA)\n",
    "choleskiSol(L,bbb)"
   ]
  },
  {
   "cell_type": "code",
   "execution_count": null,
   "metadata": {},
   "outputs": [],
   "source": []
  }
 ],
 "metadata": {
  "kernelspec": {
   "display_name": "Python 3",
   "language": "python",
   "name": "python3"
  },
  "language_info": {
   "codemirror_mode": {
    "name": "ipython",
    "version": 3
   },
   "file_extension": ".py",
   "mimetype": "text/x-python",
   "name": "python",
   "nbconvert_exporter": "python",
   "pygments_lexer": "ipython3",
   "version": "3.7.6"
  }
 },
 "nbformat": 4,
 "nbformat_minor": 4
}
